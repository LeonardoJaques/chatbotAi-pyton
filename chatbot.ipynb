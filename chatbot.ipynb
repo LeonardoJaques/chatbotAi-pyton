{
  "nbformat": 4,
  "nbformat_minor": 0,
  "metadata": {
    "colab": {
      "provenance": [],
      "authorship_tag": "ABX9TyPNjrZAWg5Z5EN/CwpQdf7P",
      "include_colab_link": true
    },
    "kernelspec": {
      "name": "python3",
      "display_name": "Python 3"
    },
    "language_info": {
      "name": "python"
    }
  },
  "cells": [
    {
      "cell_type": "markdown",
      "metadata": {
        "id": "view-in-github",
        "colab_type": "text"
      },
      "source": [
        "<a href=\"https://colab.research.google.com/github/LeonardoJaques/chatbotAi-pyton/blob/main/chatbot.ipynb\" target=\"_parent\"><img src=\"https://colab.research.google.com/assets/colab-badge.svg\" alt=\"Open In Colab\"/></a>"
      ]
    },
    {
      "cell_type": "code",
      "source": [
        "!pip install -q -U google-generativeai"
      ],
      "metadata": {
        "id": "qsORvqJyT3cY"
      },
      "execution_count": null,
      "outputs": []
    },
    {
      "cell_type": "code",
      "source": [
        "import google.generativeai as genai\n",
        "# Or use `os.getenv('GOOGLE_API_KEY')` to fetch an environment variable.\n",
        "from google.colab import userdata\n",
        "GOOGLE_API_KEY = userdata.get('GOOGLE_API_KEY')\n",
        "\n",
        "genai.configure(api_key=GOOGLE_API_KEY)"
      ],
      "metadata": {
        "id": "TypOD2GwT8al"
      },
      "execution_count": 41,
      "outputs": []
    },
    {
      "cell_type": "markdown",
      "source": [
        "Listar os modelos disponíveis"
      ],
      "metadata": {
        "id": "OlYi5cBVVLC2"
      }
    },
    {
      "cell_type": "code",
      "source": [
        "for mod in genai.list_models():\n",
        "  if 'generateContent' in mod.supported_generation_methods:\n",
        "    print(mod.name)"
      ],
      "metadata": {
        "colab": {
          "base_uri": "https://localhost:8080/",
          "height": 156
        },
        "id": "vtor-0QfUser",
        "outputId": "3c1b0f30-e0b4-402c-fd48-2cad5a4d6c7d"
      },
      "execution_count": 9,
      "outputs": [
        {
          "output_type": "stream",
          "name": "stdout",
          "text": [
            "models/gemini-1.0-pro\n",
            "models/gemini-1.0-pro-001\n",
            "models/gemini-1.0-pro-latest\n",
            "models/gemini-1.0-pro-vision-latest\n",
            "models/gemini-1.5-flash-latest\n",
            "models/gemini-1.5-pro-latest\n",
            "models/gemini-pro\n",
            "models/gemini-pro-vision\n"
          ]
        }
      ]
    },
    {
      "cell_type": "code",
      "source": [
        "generation_config = {\n",
        "    \"candidate_count\" : 1,\n",
        "    \"temperature\" : 0.5\n",
        "}"
      ],
      "metadata": {
        "id": "8lxKeHhHW1dJ"
      },
      "execution_count": 42,
      "outputs": []
    },
    {
      "cell_type": "code",
      "source": [
        "safetly_settings = {\n",
        "    \"HARASSMENT\": \"BLOCK_NONE\",\n",
        "    \"HATE\" : \"BLOCK_NONE\",\n",
        "    \"SEXUAL\" :\"BLOCK_NONE\",\n",
        "    \"DANGEROUS\": \"BLOCK_NONE\",\n",
        "}"
      ],
      "metadata": {
        "id": "uY1TIGQBZqSG"
      },
      "execution_count": 43,
      "outputs": []
    },
    {
      "cell_type": "markdown",
      "source": [
        "Iniciando o modelo"
      ],
      "metadata": {
        "id": "7Uhb2WuDbQq4"
      }
    },
    {
      "cell_type": "code",
      "source": [
        "model = genai.GenerativeModel(model_name=\"gemini-1.0-pro\",generation_config=generation_config, safety_settings=safetly_settings)"
      ],
      "metadata": {
        "id": "9cO1ALw2bURU"
      },
      "execution_count": 44,
      "outputs": []
    },
    {
      "cell_type": "code",
      "source": [
        "response = model.generate_content(\"Vamos aprender conteúdo sobre AI. Me dê sugestões\")\n",
        "print(response.text)"
      ],
      "metadata": {
        "colab": {
          "base_uri": "https://localhost:8080/",
          "height": 781
        },
        "id": "hZqEnC5bfuss",
        "outputId": "55b02fb1-8db2-4dd5-9fae-9c9d30ff204c"
      },
      "execution_count": 45,
      "outputs": [
        {
          "output_type": "stream",
          "name": "stdout",
          "text": [
            "**Conceitos Fundamentais:**\n",
            "\n",
            "* O que é Inteligência Artificial (IA)?\n",
            "* Tipos de IA: IA fraca, IA forte, IA geral\n",
            "* Aprendizado de máquina, aprendizado profundo e redes neurais\n",
            "* Algoritmos de IA comuns: regressão, classificação, agrupamento\n",
            "\n",
            "**Aplicações da IA:**\n",
            "\n",
            "* Processamento de linguagem natural (PNL)\n",
            "* Visão computacional\n",
            "* Robótica\n",
            "* Veículos autônomos\n",
            "* Assistentes pessoais virtuais\n",
            "* Diagnóstico médico e saúde\n",
            "* Finanças e negócios\n",
            "\n",
            "**Ética e Implicações Sociais da IA:**\n",
            "\n",
            "* Viés e discriminação na IA\n",
            "* Perda de empregos e automação\n",
            "* Privacidade e vigilância\n",
            "* Regulamentação e políticas de IA\n",
            "\n",
            "**Tendências e Avanços em IA:**\n",
            "\n",
            "* Aprendizado federado e descentralizado\n",
            "* IA quântica\n",
            "* Sistemas de IA explicáveis e confiáveis\n",
            "* IA na nuvem e computação de ponta\n",
            "\n",
            "**Recursos para Aprender sobre IA:**\n",
            "\n",
            "* **Cursos online:** Coursera, edX, Udemy\n",
            "* **Livros:** \"Inteligência Artificial: Uma Abordagem Moderna\" (Stuart Russell e Peter Norvig), \"Aprendizado de Máquina\" (Tom M. Mitchell)\n",
            "* **Revistas acadêmicas:** Journal of Artificial Intelligence Research, IEEE Transactions on Neural Networks and Learning Systems\n",
            "* **Conferências e workshops:** NeurIPS, ICML, CVPR\n",
            "\n",
            "**Dicas para Aprender sobre IA:**\n",
            "\n",
            "* Comece com os conceitos básicos e gradualmente avance para tópicos mais avançados.\n",
            "* Pratique a programação e a implementação de algoritmos de IA.\n",
            "* Junte-se a comunidades online e participe de discussões sobre IA.\n",
            "* Mantenha-se atualizado com as últimas tendências e avanços em IA.\n"
          ]
        }
      ]
    },
    {
      "cell_type": "code",
      "source": [
        "chat = model.start_chat(history=[])"
      ],
      "metadata": {
        "id": "EUeib2qagZdK"
      },
      "execution_count": 47,
      "outputs": []
    },
    {
      "cell_type": "code",
      "source": [
        "prompt = input(\"Esperando prompt: \")\n",
        "\n",
        "while prompt != \"fim\":\n",
        "  response = chat.send_message(prompt)\n",
        "  print(\"Tars resposta: \", response.text, \"\\n\")\n",
        "  prompt = input(\"Esperando prompt: \")"
      ],
      "metadata": {
        "colab": {
          "base_uri": "https://localhost:8080/",
          "height": 1000
        },
        "id": "fJjtHRAfkDh8",
        "outputId": "463032af-46b1-4072-c001-47227f1d4324"
      },
      "execution_count": null,
      "outputs": [
        {
          "output_type": "stream",
          "name": "stdout",
          "text": [
            "Esperando prompt: Teste\n",
            "Tars resposta:  **Teste de Conhecimento**\n",
            "\n",
            "**Instruções:** Leia atentamente cada pergunta e escolha a melhor resposta entre as opções fornecidas.\n",
            "\n",
            "**1. Qual é a capital da França?**\n",
            "(a) Londres\n",
            "(b) Paris\n",
            "(c) Roma\n",
            "(d) Berlim\n",
            "\n",
            "**2. Quem é o autor de \"Cem Anos de Solidão\"?**\n",
            "(a) Gabriel García Márquez\n",
            "(b) Ernest Hemingway\n",
            "(c) William Shakespeare\n",
            "(d) Jane Austen\n",
            "\n",
            "**3. Qual é o maior órgão do corpo humano?**\n",
            "(a) Coração\n",
            "(b) Fígado\n",
            "(c) Pele\n",
            "(d) Cérebro\n",
            "\n",
            "**4. Qual é a fórmula química da água?**\n",
            "(a) NaCl\n",
            "(b) H2O\n",
            "(c) CO2\n",
            "(d) CH4\n",
            "\n",
            "**5. Qual é o planeta mais próximo do Sol?**\n",
            "(a) Terra\n",
            "(b) Marte\n",
            "(c) Mercúrio\n",
            "(d) Vênus\n",
            "\n",
            "**6. Qual é a moeda oficial do Brasil?**\n",
            "(a) Dólar\n",
            "(b) Euro\n",
            "(c) Real\n",
            "(d) Libra\n",
            "\n",
            "**7. Quem foi o primeiro homem a pisar na Lua?**\n",
            "(a) Neil Armstrong\n",
            "(b) Buzz Aldrin\n",
            "(c) Yuri Gagarin\n",
            "(d) Alan Shepard\n",
            "\n",
            "**8. Qual é o nome do maior deserto do mundo?**\n",
            "(a) Saara\n",
            "(b) Atacama\n",
            "(c) Antártica\n",
            "(d) Gobi\n",
            "\n",
            "**9. Qual é o elemento químico mais leve?**\n",
            "(a) Hélio\n",
            "(b) Hidrogênio\n",
            "(c) Lítio\n",
            "(d) Berílio\n",
            "\n",
            "**10. Qual é o nome do maior oceano do mundo?**\n",
            "(a) Atlântico\n",
            "(b) Pacífico\n",
            "(c) Índico\n",
            "(d) Ártico\n",
            "\n",
            "**Chave de Respostas:**\n",
            "\n",
            "1. (b)\n",
            "2. (a)\n",
            "3. (c)\n",
            "4. (b)\n",
            "5. (c)\n",
            "6. (c)\n",
            "7. (a)\n",
            "8. (c)\n",
            "9. (b)\n",
            "10. (b) \n",
            "\n",
            "Esperando prompt: ideas de alimentos no brasil?\n",
            "Tars resposta:  **Ideias de Alimentos no Brasil**\n",
            "\n",
            "**Café da Manhã:**\n",
            "\n",
            "* Pão de queijo\n",
            "* Açaí na tigela\n",
            "* Tapioca com manteiga e queijo\n",
            "* Ovos mexidos com presunto e queijo\n",
            "* Fruta fresca com granola e iogurte\n",
            "\n",
            "**Almoço:**\n",
            "\n",
            "* Feijoada (ensopado de feijão preto com carne)\n",
            "* Arroz com feijão e bife\n",
            "* Moqueca (ensopado de peixe ou frutos do mar)\n",
            "* Churrasco (carne grelhada)\n",
            "* Pastel (pastel frito recheado com vários ingredientes)\n",
            "\n",
            "**Jantar:**\n",
            "\n",
            "* Vatapá (ensopado de camarão e peixe com leite de coco)\n",
            "* Caruru (ensopado de quiabo com camarão)\n",
            "* Galinhada (ensopado de galinha com legumes)\n",
            "* Sarapatel (ensopado de miúdos de porco)\n",
            "* Pizza (com coberturas variadas)\n",
            "\n",
            "**Lanches:**\n",
            "\n",
            "* Coxinha (massa de frango frita)\n",
            "* Kibe (bolinho de carne moída)\n",
            "* Empada (torta salgada recheada com vários ingredientes)\n",
            "* Pão de queijo\n",
            "* Açaí na tigela\n",
            "\n",
            "**Sobremesas:**\n",
            "\n",
            "* Brigadeiro (bolinho de chocolate)\n",
            "* Pudim de leite\n",
            "* Quindim (pudim de gema de ovo)\n",
            "* Romeu e Julieta (queijo minas com goiabada)\n",
            "* Sorvete\n",
            "\n",
            "**Bebidas:**\n",
            "\n",
            "* Café\n",
            "* Suco de frutas\n",
            "* Cerveja\n",
            "* Caipirinha (coquetel de limão, cachaça e açúcar) \n",
            "\n"
          ]
        }
      ]
    },
    {
      "cell_type": "code",
      "source": [
        "chat.history"
      ],
      "metadata": {
        "colab": {
          "base_uri": "https://localhost:8080/"
        },
        "id": "QsL2b3B5nA8T",
        "outputId": "e49d1c6d-e9dd-43b4-b509-e0d09ccdba65"
      },
      "execution_count": 33,
      "outputs": [
        {
          "output_type": "execute_result",
          "data": {
            "text/plain": [
              "[parts {\n",
              "   text: \"Qual a capital do japao\"\n",
              " }\n",
              " role: \"user\",\n",
              " parts {\n",
              "   text: \"T\\303\\263quio\"\n",
              " }\n",
              " role: \"model\",\n",
              " parts {\n",
              "   text: \"Qual a capital do Rio grande do sul\"\n",
              " }\n",
              " role: \"user\",\n",
              " parts {\n",
              "   text: \"Porto Alegre\"\n",
              " }\n",
              " role: \"model\"]"
            ]
          },
          "metadata": {},
          "execution_count": 33
        }
      ]
    },
    {
      "cell_type": "code",
      "source": [
        "#Melhorando a visualização\n",
        "#Código disponível em https://ai.google.dev/tutorials/python_quickstart#import_packages\n",
        "\n",
        "import textwrap\n",
        "from IPython.display import display\n",
        "from IPython.display import Markdown\n",
        "\n",
        "def to_markdown(text):\n",
        "  text = text.replace(\"\\n\", \"<br>\")\n",
        "  return Markdown(textwrap.indent(text, '>', predicate=lambda _: True))\n",
        "\n",
        "#Imprimindo o histórico\n",
        "for message in chat.history:\n",
        "  display(to_markdown(f\"**{message.role}**: {message.parts[0].text}\"))\n",
        "\n",
        "  print(\"------------------------------------------------------------\")\n"
      ],
      "metadata": {
        "colab": {
          "base_uri": "https://localhost:8080/",
          "height": 268
        },
        "id": "6VRjx9oUk7Ln",
        "outputId": "0c0bf4d2-71ed-4315-dff8-3e5b85174873"
      },
      "execution_count": 35,
      "outputs": [
        {
          "output_type": "display_data",
          "data": {
            "text/plain": [
              "<IPython.core.display.Markdown object>"
            ],
            "text/markdown": ">**user**: Qual a capital do japao"
          },
          "metadata": {}
        },
        {
          "output_type": "stream",
          "name": "stdout",
          "text": [
            "------------------------------------------------------------\n"
          ]
        },
        {
          "output_type": "display_data",
          "data": {
            "text/plain": [
              "<IPython.core.display.Markdown object>"
            ],
            "text/markdown": ">**model**: Tóquio"
          },
          "metadata": {}
        },
        {
          "output_type": "stream",
          "name": "stdout",
          "text": [
            "------------------------------------------------------------\n"
          ]
        },
        {
          "output_type": "display_data",
          "data": {
            "text/plain": [
              "<IPython.core.display.Markdown object>"
            ],
            "text/markdown": ">**user**: Qual a capital do Rio grande do sul"
          },
          "metadata": {}
        },
        {
          "output_type": "stream",
          "name": "stdout",
          "text": [
            "------------------------------------------------------------\n"
          ]
        },
        {
          "output_type": "display_data",
          "data": {
            "text/plain": [
              "<IPython.core.display.Markdown object>"
            ],
            "text/markdown": ">**model**: Porto Alegre"
          },
          "metadata": {}
        },
        {
          "output_type": "stream",
          "name": "stdout",
          "text": [
            "------------------------------------------------------------\n"
          ]
        }
      ]
    }
  ]
}